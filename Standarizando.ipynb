{
 "cells": [
  {
   "cell_type": "code",
   "execution_count": 1,
   "metadata": {},
   "outputs": [],
   "source": [
    "import pandas as pd\n",
    "import seaborn as sns\n",
    "from sklearn.decomposition import PCA\n",
    "import matplotlib\n",
    "import matplotlib.pyplot as plt\n",
    "from scipy import stats\n",
    "from sklearn.model_selection import train_test_split\n",
    "from sklearn import svm\n",
    "from sklearn.svm import SVC\n",
    "from sklearn.linear_model import LogisticRegression\n",
    "from sklearn.neighbors import KNeighborsClassifier\n",
    "from sklearn import metrics\n",
    "from sklearn.metrics import accuracy_score\n",
    "from sklearn.ensemble import RandomForestClassifier           \n",
    "from sklearn.neighbors import KNeighborsClassifier            \n",
    "from sklearn.ensemble import GradientBoostingClassifier       \n",
    "from sklearn.neural_network import MLPClassifier\n",
    "#from sklearn.model_selection import GridSearchCV \n",
    "from sklearn import tree\n",
    "from sklearn.metrics import confusion_matrix\n",
    "from sklearn.naive_bayes import GaussianNB\n",
    "from sklearn.svm import SVC\n",
    "from sklearn import tree\n",
    "from sklearn.model_selection import cross_val_score\n",
    "from sklearn.model_selection import GridSearchCV\n",
    "import numpy as np\n",
    "from sklearn.preprocessing import StandardScaler\n",
    "import statsmodels.api as sm\n",
    "\n",
    "import statsmodels.formula.api as smf"
   ]
  },
  {
   "cell_type": "code",
   "execution_count": 2,
   "metadata": {},
   "outputs": [],
   "source": [
    "encuesta=pd.read_csv(\"../trabajo final macroencuesta/DA3242\",delimiter= '\\t', header=None)"
   ]
  },
  {
   "cell_type": "code",
   "execution_count": 3,
   "metadata": {},
   "outputs": [],
   "source": [
    "#Creamos el diccionario con el nombre de las columnas y donde se realizan los cortes \n",
    "columnas={\"ESTU\": [1,4], \"CUES\": [5,9], \"CCAA\":[10,11], \"PROV\": [12,13], \"MUN\": [14,16], \"TAMUNI\": [17,17], \"CAPITAL\": [18,18], \"DISTR\": [19,20], \"SECCION\": [21,23],\"ENTREV\": [24,27], \"P0A\": [28,28], \"P1\": [29,29], \"P2\": [30,30], \"P3\": [31,31], \"P4\": [32,32], \"P501\": [33,33], \"P502\": [34,34], \"P503\": [35,35], \"P601\": [36,37], \"P602\": [38,39], \"P603\": [40,41],\"P701\": [42,43], \"P702\": [44,45], \"P703\": [46,47], \"P801\": [48,48], \"P802\": [49,49], \"P803\": [50,50], \"P804\": [51,51], \"P805\": [52,52], \"P806\": [53,53], \"P807\": [54,54], \"P808\": [55,55],\"P809\": [56,56], \"P810\": [57,57], \"P811\": [58,58], \"P812\": [59,59], \"P813\": [60,60], \"P814\":[61,61], \"P815\": [62,62], \"P816\": [63,63], \"P9\": [64,64], \"P9A\":[65,65], \"P9B01\": [66,67], \"P9B02\": [68,69],\"P10\": [70,71], \"P10A\": [72,73], \"P1101\": [74,75], \"P1102\": [76,77], \"P1103\": [78,79], \"P1104\": [80,81], \"P1105\": [82,83], \"P1106\": [84,85],\"P12\":[86,87], \"P1301\": [88,89], \"P1302\": [90,91], \"P1303\": [92,93], \"P1304\": [94,95], \"P1305\": [96,97], \"P1306\": [98,99], \"P1307\": [100,101],\"P1308\": [102,103], \"P1309\": [104,105], \"P1310\": [106,107], \"P1311\": [108,109], \"P1312\": [110,111], \"P1313\": [112,113], \"P1314\": [114,115],\"P1315\": [116,117], \"P1316\": [118,119], \"P1317\": [120,121], \"P1318\": [122,123], \"P1319\": [124,125], \"P1320\": [126,127], \"P14\": [128,129],\"P15\": [130,131], \"P16\": [132,133], \"P17\": [134,135], \"P18\": [136,136], \"P18A\": [137,138], \"P19\": [139,140], \"P2001\": [141,142], \"P2002\": [143,144],\"P2003\": [145,146], \"P2004\" :[147,148], \"P2005\": [149,150], \"P2006\": [151,152], \"P2007\": [153,154], \"P2008\": [155,156],\"P2009\": [157,158],\"P2010\": [159,160], \"P2011\": [161,162], \"P2012\": [163,164], \"P2013\": [165,166], \"P2014\": [167,168], \"P2015\": [169,170], \"P2016\": [171,172],\"P2017\": [173,174], \"P2018\": [175,176], \"P2019\": [177,178], \"P2020\": [179,180], \"P21\": [181,182], \"P21A\": [183,184], \"P22\": [185,185], \"P23\": [186,187],\"P24\": [188,188], \"P24A\": [189,190], \"P25\": [191,191], \"P25A\":[192,193], \"P26\":[194,194], \"P27\": [195,195], \"P28\": [196,196], \"P29\": [197,197], \"P30\": [198,198], \"P30A\": [199,199], \"P31\":[200,200],\"E101\": [201,202], \"E102\": [203,204], \"E103\": [205,206], \"E2\": [207,209], \"E3\": [210,210], \"C1\": [211,211], \"C1A\": [212,213], \"PESO\": [214,220],\"P9BCOMR\": [221,224], \"P10R\": [225,226], \"P10AR\": [227,228], \"VOTOSIMG\": [229,230], \"P18AR\": [231,232], \"RECUERDO\": [233,234], \"P9BCOM\": [235,238],\"P14R\": [239,240], \"P15R\": [241,242], \"P16R\": [243,244], \"ESTUDIOS\": [245,245], \"PESOCCAA\": [246,252]}"
   ]
  },
  {
   "cell_type": "code",
   "execution_count": 4,
   "metadata": {},
   "outputs": [
    {
     "data": {
      "text/html": [
       "<div>\n",
       "<style scoped>\n",
       "    .dataframe tbody tr th:only-of-type {\n",
       "        vertical-align: middle;\n",
       "    }\n",
       "\n",
       "    .dataframe tbody tr th {\n",
       "        vertical-align: top;\n",
       "    }\n",
       "\n",
       "    .dataframe thead th {\n",
       "        text-align: right;\n",
       "    }\n",
       "</style>\n",
       "<table border=\"1\" class=\"dataframe\">\n",
       "  <thead>\n",
       "    <tr style=\"text-align: right;\">\n",
       "      <th></th>\n",
       "      <th>0</th>\n",
       "      <th>P1106</th>\n",
       "      <th>P1302</th>\n",
       "      <th>P1304</th>\n",
       "      <th>P2001</th>\n",
       "      <th>P2016</th>\n",
       "      <th>P816</th>\n",
       "      <th>P1103</th>\n",
       "      <th>P9B02</th>\n",
       "      <th>P801</th>\n",
       "      <th>...</th>\n",
       "      <th>P1318</th>\n",
       "      <th>P1101</th>\n",
       "      <th>P814</th>\n",
       "      <th>P503</th>\n",
       "      <th>P703</th>\n",
       "      <th>P702</th>\n",
       "      <th>P1312</th>\n",
       "      <th>P15</th>\n",
       "      <th>ENTREV</th>\n",
       "      <th>P29</th>\n",
       "    </tr>\n",
       "  </thead>\n",
       "  <tbody>\n",
       "    <tr>\n",
       "      <th>0</th>\n",
       "      <td>3242    116 1 5951 0  0   01124321313 818 8121...</td>\n",
       "      <td>2</td>\n",
       "      <td>3</td>\n",
       "      <td>0</td>\n",
       "      <td>7</td>\n",
       "      <td>0</td>\n",
       "      <td>8</td>\n",
       "      <td>2</td>\n",
       "      <td>0</td>\n",
       "      <td>4</td>\n",
       "      <td>...</td>\n",
       "      <td></td>\n",
       "      <td>97</td>\n",
       "      <td>8</td>\n",
       "      <td>3</td>\n",
       "      <td>13</td>\n",
       "      <td>12</td>\n",
       "      <td>0</td>\n",
       "      <td>1</td>\n",
       "      <td>0</td>\n",
       "      <td>1</td>\n",
       "    </tr>\n",
       "    <tr>\n",
       "      <th>1</th>\n",
       "      <td>3242    216 1 5951 0  0   012333128 11898 1451...</td>\n",
       "      <td>3</td>\n",
       "      <td>2</td>\n",
       "      <td>3</td>\n",
       "      <td>6</td>\n",
       "      <td>0</td>\n",
       "      <td>8</td>\n",
       "      <td>2</td>\n",
       "      <td>0</td>\n",
       "      <td>2</td>\n",
       "      <td>...</td>\n",
       "      <td></td>\n",
       "      <td>3</td>\n",
       "      <td>8</td>\n",
       "      <td>8</td>\n",
       "      <td>18</td>\n",
       "      <td>45</td>\n",
       "      <td>0</td>\n",
       "      <td>1</td>\n",
       "      <td>0</td>\n",
       "      <td>4</td>\n",
       "    </tr>\n",
       "    <tr>\n",
       "      <th>2</th>\n",
       "      <td>3242    316 1 5951 0  0   014454799 1192219229...</td>\n",
       "      <td>1</td>\n",
       "      <td>0</td>\n",
       "      <td>0</td>\n",
       "      <td>98</td>\n",
       "      <td>0</td>\n",
       "      <td>5</td>\n",
       "      <td>1</td>\n",
       "      <td>0</td>\n",
       "      <td>5</td>\n",
       "      <td>...</td>\n",
       "      <td></td>\n",
       "      <td>1</td>\n",
       "      <td>5</td>\n",
       "      <td>9</td>\n",
       "      <td>98</td>\n",
       "      <td>22</td>\n",
       "      <td>0</td>\n",
       "      <td>98</td>\n",
       "      <td>0</td>\n",
       "      <td>2</td>\n",
       "    </tr>\n",
       "    <tr>\n",
       "      <th>3</th>\n",
       "      <td>3242    416 1 5951 0  0   01133317919 198 1 91...</td>\n",
       "      <td>3</td>\n",
       "      <td>5</td>\n",
       "      <td>0</td>\n",
       "      <td>7</td>\n",
       "      <td>0</td>\n",
       "      <td>8</td>\n",
       "      <td>2</td>\n",
       "      <td>0</td>\n",
       "      <td>5</td>\n",
       "      <td>...</td>\n",
       "      <td></td>\n",
       "      <td>1</td>\n",
       "      <td>8</td>\n",
       "      <td>9</td>\n",
       "      <td>18</td>\n",
       "      <td>9</td>\n",
       "      <td>1</td>\n",
       "      <td>1</td>\n",
       "      <td>0</td>\n",
       "      <td>2</td>\n",
       "    </tr>\n",
       "    <tr>\n",
       "      <th>4</th>\n",
       "      <td>3242    516 1 5951 0  0   099939138 1181212189...</td>\n",
       "      <td>4</td>\n",
       "      <td>3</td>\n",
       "      <td>3</td>\n",
       "      <td>5</td>\n",
       "      <td>0</td>\n",
       "      <td>8</td>\n",
       "      <td>4</td>\n",
       "      <td>0</td>\n",
       "      <td>3</td>\n",
       "      <td>...</td>\n",
       "      <td></td>\n",
       "      <td>5</td>\n",
       "      <td>8</td>\n",
       "      <td>8</td>\n",
       "      <td>98</td>\n",
       "      <td>18</td>\n",
       "      <td>1</td>\n",
       "      <td>1</td>\n",
       "      <td>0</td>\n",
       "      <td>2</td>\n",
       "    </tr>\n",
       "  </tbody>\n",
       "</table>\n",
       "<p>5 rows × 136 columns</p>\n",
       "</div>"
      ],
      "text/plain": [
       "                                                   0 P1106 P1302 P1304 P2001  \\\n",
       "0  3242    116 1 5951 0  0   01124321313 818 8121...     2     3     0     7   \n",
       "1  3242    216 1 5951 0  0   012333128 11898 1451...     3     2     3     6   \n",
       "2  3242    316 1 5951 0  0   014454799 1192219229...     1     0     0    98   \n",
       "3  3242    416 1 5951 0  0   01133317919 198 1 91...     3     5     0     7   \n",
       "4  3242    516 1 5951 0  0   099939138 1181212189...     4     3     3     5   \n",
       "\n",
       "  P2016 P816 P1103 P9B02 P801  ... P1318 P1101 P814 P503 P703 P702 P1312 P15  \\\n",
       "0     0    8     2     0    4  ...          97    8    3   13   12     0   1   \n",
       "1     0    8     2     0    2  ...           3    8    8   18   45     0   1   \n",
       "2     0    5     1     0    5  ...           1    5    9   98   22     0  98   \n",
       "3     0    8     2     0    5  ...           1    8    9   18    9     1   1   \n",
       "4     0    8     4     0    3  ...           5    8    8   98   18     1   1   \n",
       "\n",
       "  ENTREV P29  \n",
       "0      0   1  \n",
       "1      0   4  \n",
       "2      0   2  \n",
       "3      0   2  \n",
       "4      0   2  \n",
       "\n",
       "[5 rows x 136 columns]"
      ]
     },
     "execution_count": 4,
     "metadata": {},
     "output_type": "execute_result"
    }
   ],
   "source": [
    "#aplicamos los intervalos del diccionario en el dataFrame que hemos obtenido para poder crear las columnas\n",
    "def get_intervals(x, a, b): \n",
    "    try: \n",
    "        return x[a:b]\n",
    "    except: \n",
    "        print(x, a, b)\n",
    "\n",
    "for a in columnas:\n",
    "    encuesta[a] = encuesta[0].apply(lambda x: get_intervals(x, columnas[a][0]-1, columnas[a][1]))\n",
    "encuesta.head()"
   ]
  },
  {
   "cell_type": "code",
   "execution_count": 5,
   "metadata": {},
   "outputs": [],
   "source": [
    "#Eliminamos la columna 0, dado que ya no nos sirve\n",
    "def drop_columna(data,columna,axis=1,inplace=True):\n",
    "    return data.drop(columna, axis=1, inplace=True)\n",
    "drop_columna(encuesta,0)"
   ]
  },
  {
   "cell_type": "code",
   "execution_count": 6,
   "metadata": {},
   "outputs": [
    {
     "data": {
      "text/html": [
       "<div>\n",
       "<style scoped>\n",
       "    .dataframe tbody tr th:only-of-type {\n",
       "        vertical-align: middle;\n",
       "    }\n",
       "\n",
       "    .dataframe tbody tr th {\n",
       "        vertical-align: top;\n",
       "    }\n",
       "\n",
       "    .dataframe thead th {\n",
       "        text-align: right;\n",
       "    }\n",
       "</style>\n",
       "<table border=\"1\" class=\"dataframe\">\n",
       "  <thead>\n",
       "    <tr style=\"text-align: right;\">\n",
       "      <th></th>\n",
       "      <th>P1106</th>\n",
       "      <th>P1302</th>\n",
       "      <th>P1304</th>\n",
       "      <th>P2001</th>\n",
       "      <th>P2016</th>\n",
       "      <th>P816</th>\n",
       "      <th>P1103</th>\n",
       "      <th>P9B02</th>\n",
       "      <th>P801</th>\n",
       "      <th>P2007</th>\n",
       "      <th>...</th>\n",
       "      <th>P1318</th>\n",
       "      <th>P1101</th>\n",
       "      <th>P814</th>\n",
       "      <th>P503</th>\n",
       "      <th>P703</th>\n",
       "      <th>P702</th>\n",
       "      <th>P1312</th>\n",
       "      <th>P15</th>\n",
       "      <th>ENTREV</th>\n",
       "      <th>P29</th>\n",
       "    </tr>\n",
       "  </thead>\n",
       "  <tbody>\n",
       "    <tr>\n",
       "      <th>0</th>\n",
       "      <td>2</td>\n",
       "      <td>3</td>\n",
       "      <td>0</td>\n",
       "      <td>7</td>\n",
       "      <td>0</td>\n",
       "      <td>8</td>\n",
       "      <td>2</td>\n",
       "      <td>0</td>\n",
       "      <td>4</td>\n",
       "      <td>98</td>\n",
       "      <td>...</td>\n",
       "      <td>0</td>\n",
       "      <td>97</td>\n",
       "      <td>8</td>\n",
       "      <td>3</td>\n",
       "      <td>13</td>\n",
       "      <td>12</td>\n",
       "      <td>0</td>\n",
       "      <td>1</td>\n",
       "      <td>0</td>\n",
       "      <td>1</td>\n",
       "    </tr>\n",
       "    <tr>\n",
       "      <th>1</th>\n",
       "      <td>3</td>\n",
       "      <td>2</td>\n",
       "      <td>3</td>\n",
       "      <td>6</td>\n",
       "      <td>0</td>\n",
       "      <td>8</td>\n",
       "      <td>2</td>\n",
       "      <td>0</td>\n",
       "      <td>2</td>\n",
       "      <td>98</td>\n",
       "      <td>...</td>\n",
       "      <td>0</td>\n",
       "      <td>3</td>\n",
       "      <td>8</td>\n",
       "      <td>8</td>\n",
       "      <td>18</td>\n",
       "      <td>45</td>\n",
       "      <td>0</td>\n",
       "      <td>1</td>\n",
       "      <td>0</td>\n",
       "      <td>4</td>\n",
       "    </tr>\n",
       "    <tr>\n",
       "      <th>2</th>\n",
       "      <td>1</td>\n",
       "      <td>0</td>\n",
       "      <td>0</td>\n",
       "      <td>98</td>\n",
       "      <td>0</td>\n",
       "      <td>5</td>\n",
       "      <td>1</td>\n",
       "      <td>0</td>\n",
       "      <td>5</td>\n",
       "      <td>98</td>\n",
       "      <td>...</td>\n",
       "      <td>0</td>\n",
       "      <td>1</td>\n",
       "      <td>5</td>\n",
       "      <td>9</td>\n",
       "      <td>98</td>\n",
       "      <td>22</td>\n",
       "      <td>0</td>\n",
       "      <td>98</td>\n",
       "      <td>0</td>\n",
       "      <td>2</td>\n",
       "    </tr>\n",
       "    <tr>\n",
       "      <th>3</th>\n",
       "      <td>3</td>\n",
       "      <td>5</td>\n",
       "      <td>0</td>\n",
       "      <td>7</td>\n",
       "      <td>0</td>\n",
       "      <td>8</td>\n",
       "      <td>2</td>\n",
       "      <td>0</td>\n",
       "      <td>5</td>\n",
       "      <td>3</td>\n",
       "      <td>...</td>\n",
       "      <td>0</td>\n",
       "      <td>1</td>\n",
       "      <td>8</td>\n",
       "      <td>9</td>\n",
       "      <td>18</td>\n",
       "      <td>9</td>\n",
       "      <td>1</td>\n",
       "      <td>1</td>\n",
       "      <td>0</td>\n",
       "      <td>2</td>\n",
       "    </tr>\n",
       "    <tr>\n",
       "      <th>4</th>\n",
       "      <td>4</td>\n",
       "      <td>3</td>\n",
       "      <td>3</td>\n",
       "      <td>5</td>\n",
       "      <td>0</td>\n",
       "      <td>8</td>\n",
       "      <td>4</td>\n",
       "      <td>0</td>\n",
       "      <td>3</td>\n",
       "      <td>98</td>\n",
       "      <td>...</td>\n",
       "      <td>0</td>\n",
       "      <td>5</td>\n",
       "      <td>8</td>\n",
       "      <td>8</td>\n",
       "      <td>98</td>\n",
       "      <td>18</td>\n",
       "      <td>1</td>\n",
       "      <td>1</td>\n",
       "      <td>0</td>\n",
       "      <td>2</td>\n",
       "    </tr>\n",
       "  </tbody>\n",
       "</table>\n",
       "<p>5 rows × 135 columns</p>\n",
       "</div>"
      ],
      "text/plain": [
       "   P1106  P1302  P1304  P2001  P2016  P816  P1103  P9B02  P801  P2007  ...  \\\n",
       "0      2      3      0      7      0     8      2      0     4     98  ...   \n",
       "1      3      2      3      6      0     8      2      0     2     98  ...   \n",
       "2      1      0      0     98      0     5      1      0     5     98  ...   \n",
       "3      3      5      0      7      0     8      2      0     5      3  ...   \n",
       "4      4      3      3      5      0     8      4      0     3     98  ...   \n",
       "\n",
       "   P1318  P1101  P814  P503  P703  P702  P1312  P15  ENTREV  P29  \n",
       "0      0     97     8     3    13    12      0    1       0    1  \n",
       "1      0      3     8     8    18    45      0    1       0    4  \n",
       "2      0      1     5     9    98    22      0   98       0    2  \n",
       "3      0      1     8     9    18     9      1    1       0    2  \n",
       "4      0      5     8     8    98    18      1    1       0    2  \n",
       "\n",
       "[5 rows x 135 columns]"
      ]
     },
     "execution_count": 6,
     "metadata": {},
     "output_type": "execute_result"
    }
   ],
   "source": [
    "#convertimos las columnas en numericas \n",
    "def get_numeric(x):\n",
    "    try:\n",
    "        return int(x)\n",
    "    except:\n",
    "        return 0\n",
    "for a in columnas:\n",
    "    encuesta[a] = encuesta[a].apply(get_numeric)\n",
    "    \n",
    "encuesta.head()"
   ]
  },
  {
   "cell_type": "code",
   "execution_count": 7,
   "metadata": {},
   "outputs": [],
   "source": [
    "#seleccionamos las columnas que no nos interesan\n",
    "columnas_para_eliminar=(\"ESTU\",\"CUES\",\"PROV\",\"MUN\",\"DISTR\",\"SECCION\",\"ENTREV\",\"P501\",\"P502\",\"P503\",\"P601\",\"P602\",\"P603\",\"P701\",\"P702\",\"P703\",\"P805\",\"P806\",\"P807\",\"P808\",\"P809\",\"P810\",\"P811\",\"P812\",\"P813\",\"P814\",\"P815\",\"P816\",\"P9\",\"P9A\",\"P9B01\",\"P9B02\",\"P10\",\"P1101\",\"P1102\",\"P1103\",\"P1104\",\"P1105\",\"P1106\",\"P1305\",\"P1306\",\"P1307\",\"P1308\",\"P1309\",\"P1310\",\"P1311\",\"P1312\",\"P1313\",\"P1314\",\"P1315\",\"P1316\",\"P1317\",\"P1318\",\"P1319\",\"P1320\",\"P14\",\"P15\",\"P16\",\"P17\",\"P18\",\"P18A\",\"P2005\",\"P2006\",\"P2007\",\"P2008\",\"P2009\",\"P2010\",\"P2011\",\"P2012\",\"P2013\",\"P2014\",\"P2015\",\"P2016\",\"P2017\",\"P2018\",\"P2019\",\"P2020\",\"P21\",\"P21A\",\"P24A\",\"P25A\",\"P29\",\"P30\",\"P30A\",\"P31\",\"E101\",\"E102\",\"E103\",\"E2\",\"E3\",\"C1\",\"C1A\",\"VOTOSIMG\",\"RECUERDO\",\"P9BCOM\",\"P15R\",\"P16R\",\"P10AR\",\"P9BCOMR\",\"P10A\",\"P24\",\"P10R\",\"P12\",\"P18AR\",\"PESO\",\"PESOCCAA\")\n",
    "for a in columnas_para_eliminar:\n",
    "    drop_columna(encuesta,a)"
   ]
  },
  {
   "cell_type": "code",
   "execution_count": 8,
   "metadata": {},
   "outputs": [],
   "source": [
    "cols=[\"P1\",\"P2\",\"P3\",\"P4\",\"P801\",\"P802\",\"P803\",\"P804\",\"P1301\",\"P1302\",\"P1303\",\"P1304\",\"P2001\",\"P2002\",\"P2003\",\"P2004\",\"P23\",\"TAMUNI\",\"ESTUDIOS\",\"CAPITAL\",\"CCAA\",\"P0A\",\"P14R\",\"P22\",\"P25\",\"P26\",\"P27\",\"P28\",\"P19\"]\n",
    "colssincat=[\"P1\",\"P2\",\"P3\",\"P4\",\"P801\",\"P802\",\"P803\",\"P804\",\"P1301\",\"P1302\",\"P1303\",\"P1304\",\"P2001\",\"P2002\",\"P2003\",\"P2004\",\"P23\",\"TAMUNI\",\"ESTUDIOS\",\"ideologia\"]"
   ]
  },
  {
   "cell_type": "code",
   "execution_count": 9,
   "metadata": {},
   "outputs": [],
   "source": [
    "encuesta = encuesta[cols]"
   ]
  },
  {
   "cell_type": "code",
   "execution_count": 10,
   "metadata": {},
   "outputs": [],
   "source": [
    "limpieza9=(\"ESTUDIOS\",\"P0A\",\"P1\",\"P2\",\"P3\",\"P4\",\"P801\",\"P802\",\"P803\",\"P804\",\"P23\",\"P25\",\"P26\",\"P27\",\"P28\")\n",
    "limpieza99=(\"P1301\",\"P1302\",\"P1303\",\"P1304\",\"P14R\",\"P2001\",\"P2002\",\"P2003\",\"P2004\",)"
   ]
  },
  {
   "cell_type": "code",
   "execution_count": 11,
   "metadata": {},
   "outputs": [],
   "source": [
    "def drop_file(data,pregunta,valor):\n",
    "    data = data[data[pregunta] != valor]\n",
    "    return data"
   ]
  },
  {
   "cell_type": "code",
   "execution_count": 12,
   "metadata": {},
   "outputs": [],
   "source": [
    "#Eliminación de NC-8 ó 88 y NS - 9 ó 99\n",
    "for a in limpieza9:\n",
    "    encuesta = drop_file(encuesta,a,8)\n",
    "    encuesta = drop_file(encuesta,a,9)\n",
    "for a in limpieza99:\n",
    "    encuesta = drop_file(encuesta,a,88)\n",
    "    encuesta = drop_file(encuesta,a,98)\n",
    "    encuesta = drop_file(encuesta,a,99)\n"
   ]
  },
  {
   "cell_type": "code",
   "execution_count": 13,
   "metadata": {},
   "outputs": [
    {
     "name": "stdout",
     "output_type": "stream",
     "text": [
      "<class 'pandas.core.frame.DataFrame'>\n",
      "Int64Index: 9731 entries, 0 to 16191\n",
      "Data columns (total 29 columns):\n",
      "P1          9731 non-null int64\n",
      "P2          9731 non-null int64\n",
      "P3          9731 non-null int64\n",
      "P4          9731 non-null int64\n",
      "P801        9731 non-null int64\n",
      "P802        9731 non-null int64\n",
      "P803        9731 non-null int64\n",
      "P804        9731 non-null int64\n",
      "P1301       9731 non-null int64\n",
      "P1302       9731 non-null int64\n",
      "P1303       9731 non-null int64\n",
      "P1304       9731 non-null int64\n",
      "P2001       9731 non-null int64\n",
      "P2002       9731 non-null int64\n",
      "P2003       9731 non-null int64\n",
      "P2004       9731 non-null int64\n",
      "P23         9731 non-null int64\n",
      "TAMUNI      9731 non-null int64\n",
      "ESTUDIOS    9731 non-null int64\n",
      "CAPITAL     9731 non-null int64\n",
      "CCAA        9731 non-null int64\n",
      "P0A         9731 non-null int64\n",
      "P14R        9731 non-null int64\n",
      "P22         9731 non-null int64\n",
      "P25         9731 non-null int64\n",
      "P26         9731 non-null int64\n",
      "P27         9731 non-null int64\n",
      "P28         9731 non-null int64\n",
      "P19         9731 non-null int64\n",
      "dtypes: int64(29)\n",
      "memory usage: 2.2 MB\n"
     ]
    }
   ],
   "source": [
    "encuesta = drop_file(encuesta,\"ESTUDIOS\",7)\n",
    "encuesta.info()"
   ]
  },
  {
   "cell_type": "code",
   "execution_count": 14,
   "metadata": {},
   "outputs": [],
   "source": [
    "encuestaauto = drop_file(encuesta,\"P19\",98)\n",
    "encuestaauto = drop_file(encuestaauto,\"P19\",99)"
   ]
  },
  {
   "cell_type": "code",
   "execution_count": 15,
   "metadata": {},
   "outputs": [],
   "source": [
    "encuestaauto=encuestaauto.reset_index()"
   ]
  },
  {
   "cell_type": "code",
   "execution_count": 16,
   "metadata": {},
   "outputs": [
    {
     "name": "stdout",
     "output_type": "stream",
     "text": [
      "<class 'pandas.core.frame.DataFrame'>\n",
      "RangeIndex: 9395 entries, 0 to 9394\n",
      "Data columns (total 30 columns):\n",
      "index       9395 non-null int64\n",
      "P1          9395 non-null int64\n",
      "P2          9395 non-null int64\n",
      "P3          9395 non-null int64\n",
      "P4          9395 non-null int64\n",
      "P801        9395 non-null int64\n",
      "P802        9395 non-null int64\n",
      "P803        9395 non-null int64\n",
      "P804        9395 non-null int64\n",
      "P1301       9395 non-null int64\n",
      "P1302       9395 non-null int64\n",
      "P1303       9395 non-null int64\n",
      "P1304       9395 non-null int64\n",
      "P2001       9395 non-null int64\n",
      "P2002       9395 non-null int64\n",
      "P2003       9395 non-null int64\n",
      "P2004       9395 non-null int64\n",
      "P23         9395 non-null int64\n",
      "TAMUNI      9395 non-null int64\n",
      "ESTUDIOS    9395 non-null int64\n",
      "CAPITAL     9395 non-null int64\n",
      "CCAA        9395 non-null int64\n",
      "P0A         9395 non-null int64\n",
      "P14R        9395 non-null int64\n",
      "P22         9395 non-null int64\n",
      "P25         9395 non-null int64\n",
      "P26         9395 non-null int64\n",
      "P27         9395 non-null int64\n",
      "P28         9395 non-null int64\n",
      "P19         9395 non-null int64\n",
      "dtypes: int64(30)\n",
      "memory usage: 2.2 MB\n"
     ]
    }
   ],
   "source": [
    "encuestaauto.info()"
   ]
  },
  {
   "cell_type": "code",
   "execution_count": 17,
   "metadata": {},
   "outputs": [],
   "source": [
    "etiquetas=[0,1,2]\n",
    "cortes = [0,3,6,10]\n",
    "encuestaauto[\"ideologia\"] = pd.cut(encuestaauto['P19'],cortes, labels=etiquetas)\n",
    "encuestaauto[\"ideologia\"] = pd.to_numeric(encuestaauto[\"ideologia\"])"
   ]
  },
  {
   "cell_type": "code",
   "execution_count": 18,
   "metadata": {},
   "outputs": [],
   "source": [
    "encuestaauto=encuestaauto.drop(columns=\"P19\")\n",
    "encuestaauto=encuestaauto.drop(columns=\"index\")"
   ]
  },
  {
   "cell_type": "code",
   "execution_count": 19,
   "metadata": {},
   "outputs": [],
   "source": [
    "variables_categoricas=[\"CAPITAL\",\"CCAA\",\"P0A\",\"P14R\",\"P22\",\"P25\",\"P26\",\"P27\",\"P28\"]"
   ]
  },
  {
   "cell_type": "code",
   "execution_count": 20,
   "metadata": {},
   "outputs": [],
   "source": [
    "encuesta2=encuestaauto.drop(columns=variables_categoricas)"
   ]
  },
  {
   "cell_type": "code",
   "execution_count": 21,
   "metadata": {},
   "outputs": [],
   "source": [
    "encuesta_dum=encuestaauto[[\"CAPITAL\",\"CCAA\",\"P0A\",\"P14R\",\"P22\",\"P25\",\"P26\",\"P27\",\"P28\"]]"
   ]
  },
  {
   "cell_type": "code",
   "execution_count": 22,
   "metadata": {},
   "outputs": [
    {
     "data": {
      "text/html": [
       "<div>\n",
       "<style scoped>\n",
       "    .dataframe tbody tr th:only-of-type {\n",
       "        vertical-align: middle;\n",
       "    }\n",
       "\n",
       "    .dataframe tbody tr th {\n",
       "        vertical-align: top;\n",
       "    }\n",
       "\n",
       "    .dataframe thead th {\n",
       "        text-align: right;\n",
       "    }\n",
       "</style>\n",
       "<table border=\"1\" class=\"dataframe\">\n",
       "  <thead>\n",
       "    <tr style=\"text-align: right;\">\n",
       "      <th></th>\n",
       "      <th>CAPITAL</th>\n",
       "      <th>CCAA</th>\n",
       "      <th>P0A</th>\n",
       "      <th>P14R</th>\n",
       "      <th>P22</th>\n",
       "      <th>P25</th>\n",
       "      <th>P26</th>\n",
       "      <th>P27</th>\n",
       "      <th>P28</th>\n",
       "    </tr>\n",
       "  </thead>\n",
       "  <tbody>\n",
       "    <tr>\n",
       "      <th>0</th>\n",
       "      <td>1</td>\n",
       "      <td>16</td>\n",
       "      <td>1</td>\n",
       "      <td>2</td>\n",
       "      <td>1</td>\n",
       "      <td>2</td>\n",
       "      <td>2</td>\n",
       "      <td>1</td>\n",
       "      <td>1</td>\n",
       "    </tr>\n",
       "    <tr>\n",
       "      <th>1</th>\n",
       "      <td>1</td>\n",
       "      <td>16</td>\n",
       "      <td>1</td>\n",
       "      <td>1</td>\n",
       "      <td>2</td>\n",
       "      <td>3</td>\n",
       "      <td>1</td>\n",
       "      <td>1</td>\n",
       "      <td>1</td>\n",
       "    </tr>\n",
       "    <tr>\n",
       "      <th>2</th>\n",
       "      <td>1</td>\n",
       "      <td>16</td>\n",
       "      <td>1</td>\n",
       "      <td>3</td>\n",
       "      <td>2</td>\n",
       "      <td>1</td>\n",
       "      <td>5</td>\n",
       "      <td>2</td>\n",
       "      <td>1</td>\n",
       "    </tr>\n",
       "    <tr>\n",
       "      <th>3</th>\n",
       "      <td>1</td>\n",
       "      <td>16</td>\n",
       "      <td>1</td>\n",
       "      <td>2</td>\n",
       "      <td>1</td>\n",
       "      <td>1</td>\n",
       "      <td>4</td>\n",
       "      <td>1</td>\n",
       "      <td>1</td>\n",
       "    </tr>\n",
       "    <tr>\n",
       "      <th>4</th>\n",
       "      <td>1</td>\n",
       "      <td>16</td>\n",
       "      <td>1</td>\n",
       "      <td>12</td>\n",
       "      <td>1</td>\n",
       "      <td>1</td>\n",
       "      <td>5</td>\n",
       "      <td>2</td>\n",
       "      <td>1</td>\n",
       "    </tr>\n",
       "  </tbody>\n",
       "</table>\n",
       "</div>"
      ],
      "text/plain": [
       "   CAPITAL  CCAA  P0A  P14R  P22  P25  P26  P27  P28\n",
       "0        1    16    1     2    1    2    2    1    1\n",
       "1        1    16    1     1    2    3    1    1    1\n",
       "2        1    16    1     3    2    1    5    2    1\n",
       "3        1    16    1     2    1    1    4    1    1\n",
       "4        1    16    1    12    1    1    5    2    1"
      ]
     },
     "execution_count": 22,
     "metadata": {},
     "output_type": "execute_result"
    }
   ],
   "source": [
    "encuesta_dum.head()"
   ]
  },
  {
   "cell_type": "code",
   "execution_count": 23,
   "metadata": {},
   "outputs": [
    {
     "name": "stderr",
     "output_type": "stream",
     "text": [
      "/home/vicente/.local/lib/python3.5/site-packages/sklearn/preprocessing/data.py:645: DataConversionWarning: Data with input dtype int64 were all converted to float64 by StandardScaler.\n",
      "  return self.partial_fit(X, y)\n",
      "/home/vicente/.local/lib/python3.5/site-packages/sklearn/base.py:464: DataConversionWarning: Data with input dtype int64 were all converted to float64 by StandardScaler.\n",
      "  return self.fit(X, **fit_params).transform(X)\n"
     ]
    }
   ],
   "source": [
    "scaler = StandardScaler()\n",
    "encuestasta=encuesta2.loc[:,encuesta2.columns!='ideologia']\n",
    "encuestasta = scaler.fit_transform(encuestasta)\n",
    "encuestasta = pd.DataFrame(encuestasta)\n"
   ]
  },
  {
   "cell_type": "code",
   "execution_count": 24,
   "metadata": {},
   "outputs": [
    {
     "name": "stdout",
     "output_type": "stream",
     "text": [
      "<class 'pandas.core.frame.DataFrame'>\n",
      "RangeIndex: 9395 entries, 0 to 9394\n",
      "Data columns (total 19 columns):\n",
      "0     9395 non-null float64\n",
      "1     9395 non-null float64\n",
      "2     9395 non-null float64\n",
      "3     9395 non-null float64\n",
      "4     9395 non-null float64\n",
      "5     9395 non-null float64\n",
      "6     9395 non-null float64\n",
      "7     9395 non-null float64\n",
      "8     9395 non-null float64\n",
      "9     9395 non-null float64\n",
      "10    9395 non-null float64\n",
      "11    9395 non-null float64\n",
      "12    9395 non-null float64\n",
      "13    9395 non-null float64\n",
      "14    9395 non-null float64\n",
      "15    9395 non-null float64\n",
      "16    9395 non-null float64\n",
      "17    9395 non-null float64\n",
      "18    9395 non-null float64\n",
      "dtypes: float64(19)\n",
      "memory usage: 1.4 MB\n"
     ]
    }
   ],
   "source": [
    "encuestasta.info()"
   ]
  },
  {
   "cell_type": "code",
   "execution_count": 25,
   "metadata": {},
   "outputs": [],
   "source": [
    "colssincatX=[\"P1\",\"P2\",\"P3\",\"P4\",\"P801\",\"P802\",\"P803\",\"P804\",\"P1301\",\"P1302\",\"P1303\",\"P1304\",\"P2001\",\"P2002\",\"P2003\",\"P2004\",\"P23\",\"TAMUNI\",\"ESTUDIOS\"]"
   ]
  },
  {
   "cell_type": "code",
   "execution_count": 26,
   "metadata": {},
   "outputs": [
    {
     "data": {
      "text/plain": [
       "19"
      ]
     },
     "execution_count": 26,
     "metadata": {},
     "output_type": "execute_result"
    }
   ],
   "source": [
    "len(colssincatX)"
   ]
  },
  {
   "cell_type": "code",
   "execution_count": 27,
   "metadata": {},
   "outputs": [],
   "source": [
    "encuestasta.columns = colssincatX"
   ]
  },
  {
   "cell_type": "code",
   "execution_count": 28,
   "metadata": {},
   "outputs": [],
   "source": [
    "encuesta_dum=pd.get_dummies(encuesta_dum, drop_first=True)"
   ]
  },
  {
   "cell_type": "code",
   "execution_count": 29,
   "metadata": {},
   "outputs": [
    {
     "name": "stdout",
     "output_type": "stream",
     "text": [
      "<class 'pandas.core.frame.DataFrame'>\n",
      "RangeIndex: 9395 entries, 0 to 9394\n",
      "Data columns (total 9 columns):\n",
      "CAPITAL    9395 non-null int64\n",
      "CCAA       9395 non-null int64\n",
      "P0A        9395 non-null int64\n",
      "P14R       9395 non-null int64\n",
      "P22        9395 non-null int64\n",
      "P25        9395 non-null int64\n",
      "P26        9395 non-null int64\n",
      "P27        9395 non-null int64\n",
      "P28        9395 non-null int64\n",
      "dtypes: int64(9)\n",
      "memory usage: 660.7 KB\n"
     ]
    }
   ],
   "source": [
    "encuesta_dum.info()"
   ]
  },
  {
   "cell_type": "code",
   "execution_count": 36,
   "metadata": {},
   "outputs": [],
   "source": [
    "encuestatotal= encuesta_dum.merge(encuestasta,on=encuestasta.index)"
   ]
  },
  {
   "cell_type": "code",
   "execution_count": 40,
   "metadata": {},
   "outputs": [],
   "source": [
    "encuestatotal= encuestatotal.drop(columns=\"key_0\")"
   ]
  },
  {
   "cell_type": "code",
   "execution_count": 41,
   "metadata": {},
   "outputs": [
    {
     "name": "stdout",
     "output_type": "stream",
     "text": [
      "<class 'pandas.core.frame.DataFrame'>\n",
      "Int64Index: 9395 entries, 0 to 9394\n",
      "Data columns (total 28 columns):\n",
      "CAPITAL     9395 non-null int64\n",
      "CCAA        9395 non-null int64\n",
      "P0A         9395 non-null int64\n",
      "P14R        9395 non-null int64\n",
      "P22         9395 non-null int64\n",
      "P25         9395 non-null int64\n",
      "P26         9395 non-null int64\n",
      "P27         9395 non-null int64\n",
      "P28         9395 non-null int64\n",
      "P1          9395 non-null float64\n",
      "P2          9395 non-null float64\n",
      "P3          9395 non-null float64\n",
      "P4          9395 non-null float64\n",
      "P801        9395 non-null float64\n",
      "P802        9395 non-null float64\n",
      "P803        9395 non-null float64\n",
      "P804        9395 non-null float64\n",
      "P1301       9395 non-null float64\n",
      "P1302       9395 non-null float64\n",
      "P1303       9395 non-null float64\n",
      "P1304       9395 non-null float64\n",
      "P2001       9395 non-null float64\n",
      "P2002       9395 non-null float64\n",
      "P2003       9395 non-null float64\n",
      "P2004       9395 non-null float64\n",
      "P23         9395 non-null float64\n",
      "TAMUNI      9395 non-null float64\n",
      "ESTUDIOS    9395 non-null float64\n",
      "dtypes: float64(19), int64(9)\n",
      "memory usage: 2.1 MB\n"
     ]
    }
   ],
   "source": [
    "encuestatotal.info()"
   ]
  },
  {
   "cell_type": "code",
   "execution_count": 43,
   "metadata": {},
   "outputs": [],
   "source": [
    "def modelos():\n",
    "    X=encuestatotal\n",
    "    y=encuestaauto[\"ideologia\"]\n",
    "    X_train, X_test, y_train, y_test = train_test_split(X, y, test_size=0.20)\n",
    "    \n",
    "    #modelos\n",
    "    lr = LogisticRegression(solver ='liblinear',max_iter=500)\n",
    "    cls = svm.SVC(gamma='auto', probability=True)\n",
    "    neigh3 = KNeighborsClassifier(n_neighbors=3)\n",
    "    neigh5 = KNeighborsClassifier(n_neighbors=5)\n",
    "    bosque=RandomForestClassifier(n_estimators=500, criterion='gini')\n",
    "    gnb = GaussianNB()\n",
    "    #tree = tree.DecisionTreeClassifier()\n",
    "    svc = SVC(kernel='rbf', gamma='scale')\n",
    "    gbc=GradientBoostingClassifier()\n",
    "\n",
    "    #entrenando\n",
    "    cls.fit(X_train, y_train)\n",
    "    lr.fit(X_train, y_train)\n",
    "    neigh3.fit(X_train, y_train) \n",
    "    neigh5.fit(X_train, y_train) \n",
    "    bosque.fit(X_train, y_train) \n",
    "    #tree.fit(X_train, y_train)\n",
    "    gnb.fit(X_train,y_train)\n",
    "    svc.fit(X_train,y_train)\n",
    "    gbc.fit(X_train, y_train)\n",
    "\n",
    "\n",
    "\n",
    "    \n",
    "    \n",
    "    y_predlr = lr.predict(X_test)\n",
    "    y_predcls = cls.predict(X_test)\n",
    "    y_pred_neigh3= neigh3.predict(X_test)\n",
    "    y_pred_neigh5= neigh5.predict(X_test)\n",
    "    y_pred_bosque= bosque.predict(X_test)\n",
    "    #y_pred_tree= tree.predict(X_test)\n",
    "    y_pred_gnd = gnb.predict(X_test)\n",
    "    y_pred_svc = svc.predict(X_test)\n",
    "    y_pred_gbc=gbc.predict(X_test)\n",
    "\n",
    "    \n",
    "    print(\"Accuracy lineal:\",metrics.accuracy_score(y_test, y_predcls))\n",
    "    print(\"Accuracy logistics:\",metrics.accuracy_score(y_test, y_predlr))\n",
    "    print(\"Accuracy neigh3:\",metrics.accuracy_score(y_test, y_pred_neigh3))\n",
    "    print(\"Accuracy neigh5:\",metrics.accuracy_score(y_test, y_pred_neigh5))\n",
    "    print(\"Accuracy bosque:\",metrics.accuracy_score(y_test, y_pred_bosque))\n",
    "    #print(\"Accuracy tree:\",metrics.accuracy_score(y_test, y_pred_tree))\n",
    "    print(\"Accuracy gnd:\",metrics.accuracy_score(y_test, y_pred_gnd))\n",
    "    print(\"Accuracy svc:\",metrics.accuracy_score(y_test, y_pred_svc))\n",
    "    print(\"Accuracy gbc:\",metrics.accuracy_score(y_test, y_pred_gbc))\n",
    "    \n",
    "\n",
    "\n",
    "    # Your code here:\n",
    "    print(\"matriz de confusion lineal\",\"\\n\",confusion_matrix(y_test, y_predlr))\n",
    "    print(\"matriz de confusion vecino3\",\"\\n\",confusion_matrix(y_test, y_pred_neigh3))\n",
    "    print(\"matriz de confusion vecino5\",\"\\n\",confusion_matrix(y_test, y_pred_neigh5))\n",
    "    print(\"matriz de confusion bosque\",\"\\n\",confusion_matrix(y_test, y_pred_bosque))\n",
    "    print(\"matriz de confusion gnd\",\"\\n\",confusion_matrix(y_test, y_pred_gnd))\n",
    "    print(\"matriz de confusion svc\",\"\\n\",confusion_matrix(y_test, y_pred_svc))\n",
    "    print(\"matriz de confusion gbc\",\"\\n\", confusion_matrix(y_test, y_pred_gbc))"
   ]
  },
  {
   "cell_type": "code",
   "execution_count": 44,
   "metadata": {},
   "outputs": [
    {
     "name": "stderr",
     "output_type": "stream",
     "text": [
      "/home/vicente/.local/lib/python3.5/site-packages/sklearn/linear_model/logistic.py:460: FutureWarning: Default multi_class will be changed to 'auto' in 0.22. Specify the multi_class option to silence this warning.\n",
      "  \"this warning.\", FutureWarning)\n"
     ]
    },
    {
     "name": "stdout",
     "output_type": "stream",
     "text": [
      "Accuracy lineal: 0.7301756253326237\n",
      "Accuracy logistics: 0.7072911122937733\n",
      "Accuracy neigh3: 0.6615220862160723\n",
      "Accuracy neigh5: 0.6753592336349122\n",
      "Accuracy bosque: 0.7482703565726451\n",
      "Accuracy gnd: 0.6679084619478446\n",
      "Accuracy svc: 0.7072911122937733\n",
      "Accuracy gbc: 0.7621075039914849\n",
      "matriz de confusion lineal \n",
      " [[425 173   1]\n",
      " [170 673  70]\n",
      " [  4 132 231]]\n",
      "matriz de confusion vecino3 \n",
      " [[396 197   6]\n",
      " [217 616  80]\n",
      " [ 11 125 231]]\n",
      "matriz de confusion vecino5 \n",
      " [[404 194   1]\n",
      " [198 637  78]\n",
      " [  4 135 228]]\n",
      "matriz de confusion bosque \n",
      " [[448 150   1]\n",
      " [152 709  52]\n",
      " [  3 115 249]]\n",
      "matriz de confusion gnd \n",
      " [[493 101   5]\n",
      " [267 466 180]\n",
      " [  5  66 296]]\n",
      "matriz de confusion svc \n",
      " [[405 191   3]\n",
      " [165 684  64]\n",
      " [  4 123 240]]\n",
      "matriz de confusion gbc \n",
      " [[456 141   2]\n",
      " [143 712  58]\n",
      " [  4  99 264]]\n"
     ]
    }
   ],
   "source": [
    "modelos()"
   ]
  },
  {
   "cell_type": "code",
   "execution_count": 46,
   "metadata": {},
   "outputs": [
    {
     "data": {
      "text/plain": [
       "0    6743\n",
       "2    1348\n",
       "1    1304\n",
       "Name: labels, dtype: int64"
      ]
     },
     "execution_count": 46,
     "metadata": {},
     "output_type": "execute_result"
    }
   ],
   "source": [
    "from sklearn.cluster import KMeans\n",
    "kmeans = KMeans(n_clusters = 3)\n",
    "temp_kmeans = kmeans.fit(encuestatotal)\n",
    "encuestatotal['labels'] = temp_kmeans.labels_\n",
    "encuestatotal.labels.value_counts()"
   ]
  },
  {
   "cell_type": "code",
   "execution_count": 47,
   "metadata": {},
   "outputs": [
    {
     "data": {
      "text/html": [
       "<div>\n",
       "<style scoped>\n",
       "    .dataframe tbody tr th:only-of-type {\n",
       "        vertical-align: middle;\n",
       "    }\n",
       "\n",
       "    .dataframe tbody tr th {\n",
       "        vertical-align: top;\n",
       "    }\n",
       "\n",
       "    .dataframe thead th {\n",
       "        text-align: right;\n",
       "    }\n",
       "</style>\n",
       "<table border=\"1\" class=\"dataframe\">\n",
       "  <thead>\n",
       "    <tr style=\"text-align: right;\">\n",
       "      <th>labels</th>\n",
       "      <th>0</th>\n",
       "      <th>1</th>\n",
       "      <th>2</th>\n",
       "      <th>total</th>\n",
       "    </tr>\n",
       "    <tr>\n",
       "      <th>ideologia</th>\n",
       "      <th></th>\n",
       "      <th></th>\n",
       "      <th></th>\n",
       "      <th></th>\n",
       "    </tr>\n",
       "  </thead>\n",
       "  <tbody>\n",
       "    <tr>\n",
       "      <th>0</th>\n",
       "      <td>2190</td>\n",
       "      <td>318</td>\n",
       "      <td>556</td>\n",
       "      <td>3064</td>\n",
       "    </tr>\n",
       "    <tr>\n",
       "      <th>1</th>\n",
       "      <td>3205</td>\n",
       "      <td>882</td>\n",
       "      <td>434</td>\n",
       "      <td>4521</td>\n",
       "    </tr>\n",
       "    <tr>\n",
       "      <th>2</th>\n",
       "      <td>1348</td>\n",
       "      <td>104</td>\n",
       "      <td>358</td>\n",
       "      <td>1810</td>\n",
       "    </tr>\n",
       "  </tbody>\n",
       "</table>\n",
       "</div>"
      ],
      "text/plain": [
       "labels        0    1    2  total\n",
       "ideologia                       \n",
       "0          2190  318  556   3064\n",
       "1          3205  882  434   4521\n",
       "2          1348  104  358   1810"
      ]
     },
     "execution_count": 47,
     "metadata": {},
     "output_type": "execute_result"
    }
   ],
   "source": [
    "bla= pd.crosstab(encuestaauto.ideologia, encuestatotal.labels)\n",
    "bla[\"total\"]=bla.T.sum()\n",
    "bla"
   ]
  },
  {
   "cell_type": "code",
   "execution_count": 48,
   "metadata": {},
   "outputs": [],
   "source": [
    "from sklearn.cluster import DBSCAN\n",
    "from sklearn.preprocessing import StandardScaler"
   ]
  },
  {
   "cell_type": "code",
   "execution_count": 49,
   "metadata": {},
   "outputs": [],
   "source": [
    "model_db = DBSCAN(eps=0.5)\n",
    "model_db = model_db.fit(encuestatotal)"
   ]
  },
  {
   "cell_type": "code",
   "execution_count": 53,
   "metadata": {},
   "outputs": [],
   "source": [
    "encuestatotal['labels_DBSCAN'] = model_db.labels_"
   ]
  },
  {
   "cell_type": "code",
   "execution_count": 54,
   "metadata": {},
   "outputs": [
    {
     "data": {
      "text/html": [
       "<div>\n",
       "<style scoped>\n",
       "    .dataframe tbody tr th:only-of-type {\n",
       "        vertical-align: middle;\n",
       "    }\n",
       "\n",
       "    .dataframe tbody tr th {\n",
       "        vertical-align: top;\n",
       "    }\n",
       "\n",
       "    .dataframe thead th {\n",
       "        text-align: right;\n",
       "    }\n",
       "</style>\n",
       "<table border=\"1\" class=\"dataframe\">\n",
       "  <thead>\n",
       "    <tr style=\"text-align: right;\">\n",
       "      <th>labels_DBSCAN</th>\n",
       "      <th>-1</th>\n",
       "      <th>total</th>\n",
       "    </tr>\n",
       "    <tr>\n",
       "      <th>ideologia</th>\n",
       "      <th></th>\n",
       "      <th></th>\n",
       "    </tr>\n",
       "  </thead>\n",
       "  <tbody>\n",
       "    <tr>\n",
       "      <th>0</th>\n",
       "      <td>3064</td>\n",
       "      <td>3064</td>\n",
       "    </tr>\n",
       "    <tr>\n",
       "      <th>1</th>\n",
       "      <td>4521</td>\n",
       "      <td>4521</td>\n",
       "    </tr>\n",
       "    <tr>\n",
       "      <th>2</th>\n",
       "      <td>1810</td>\n",
       "      <td>1810</td>\n",
       "    </tr>\n",
       "  </tbody>\n",
       "</table>\n",
       "</div>"
      ],
      "text/plain": [
       "labels_DBSCAN    -1  total\n",
       "ideologia                 \n",
       "0              3064   3064\n",
       "1              4521   4521\n",
       "2              1810   1810"
      ]
     },
     "execution_count": 54,
     "metadata": {},
     "output_type": "execute_result"
    }
   ],
   "source": [
    "bla2= pd.crosstab(encuestaauto.ideologia, encuestatotal.labels_DBSCAN)\n",
    "bla2[\"total\"]=bla2.T.sum()\n",
    "bla2"
   ]
  },
  {
   "cell_type": "code",
   "execution_count": null,
   "metadata": {},
   "outputs": [],
   "source": []
  }
 ],
 "metadata": {
  "kernelspec": {
   "display_name": "Python 3",
   "language": "python",
   "name": "python3"
  },
  "language_info": {
   "codemirror_mode": {
    "name": "ipython",
    "version": 3
   },
   "file_extension": ".py",
   "mimetype": "text/x-python",
   "name": "python",
   "nbconvert_exporter": "python",
   "pygments_lexer": "ipython3",
   "version": "3.5.2"
  }
 },
 "nbformat": 4,
 "nbformat_minor": 2
}
